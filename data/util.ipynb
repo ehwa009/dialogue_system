{
 "cells": [
  {
   "cell_type": "code",
   "execution_count": 10,
   "metadata": {},
   "outputs": [],
   "source": [
    "#!/usr/bin/env python\n",
    "#-*- encoding: utf8 -*-\n",
    "\n",
    "import os\n",
    "\n",
    "def read_dialogs(with_indices=False):\n",
    "    \n",
    "    with open('reception_kor.txt') as f:\n",
    "        dialogs = [row.split('\\t') for row in f.read().split('\\n')]\n",
    "        prev_idx = -1\n",
    "        n = 1\n",
    "        dialog_indices = []\n",
    "        updated_dialogs = []\n",
    "\n",
    "        for i, dialog in enumerate(dialogs):\n",
    "            if not dialogs[i][0]: # user utterance is dialogs[i][0]\n",
    "                dialog_indices.append(\n",
    "                    {\n",
    "                        'start' : prev_idx + 1,\n",
    "                        'end' : i - n + 1\n",
    "                    }\n",
    "                )\n",
    "            else:\n",
    "                updated_dialogs.append(dialog) # add user's utterance\n",
    "        \n",
    "        if with_indices:\n",
    "            return updated_dialogs, dialog_indices[:-1]\n",
    "        \n",
    "        return updated_dialogs\n",
    "\n",
    "def get_utterances(dialogs=[]):\n",
    "    dialogs = dialogs if len(dialogs) else read_dialogs()\n",
    "    return [row[0] for row in dialogs]\n",
    "\n",
    "def get_response(dialogs=[]):\n",
    "    dialogs = dialogs if len(dialogs) else read_dialogs()\n",
    "    return [row[1] for row in dialogs]\n",
    "\n",
    "def read_content():\n",
    "    return ' '.join(get_utterances())\n",
    "\n",
    "def get_vocab():\n",
    "    content = read_content()\n",
    "    vocab = sorted(set(content.split(' ')))\n",
    "\n",
    "    return [ item for item in vocab if item ]\n",
    "\n"
   ]
  },
  {
   "cell_type": "code",
   "execution_count": 11,
   "metadata": {},
   "outputs": [
    {
     "data": {
      "text/plain": [
       "['3시',\n",
       " '4시야',\n",
       " '4시요',\n",
       " '4시입니다',\n",
       " '<SILENCE>',\n",
       " '가능한',\n",
       " '같아요',\n",
       " '고맙습니다',\n",
       " '괜찮습니다',\n",
       " '괜찮아요',\n",
       " '근처',\n",
       " '기다려야',\n",
       " '기억이',\n",
       " '내',\n",
       " '되나요',\n",
       " '되죠',\n",
       " '됩니까',\n",
       " '됬나요',\n",
       " '됬다고',\n",
       " '드릴께요',\n",
       " '많이',\n",
       " '말씀',\n",
       " '모르겠어요',\n",
       " '몰라',\n",
       " '받으러',\n",
       " '받으로',\n",
       " '부탁',\n",
       " '부탁드립니다',\n",
       " '사용',\n",
       " '삽니다',\n",
       " '실례하겠습니다',\n",
       " '싶습니다',\n",
       " '싶은데',\n",
       " '써도',\n",
       " '쓰고',\n",
       " '아뇨',\n",
       " '아니요',\n",
       " '아참',\n",
       " '안계시나요',\n",
       " '안나네요몰라요',\n",
       " '안나요',\n",
       " '안녕',\n",
       " '안녕하세요',\n",
       " '알려주세요',\n",
       " '어디에',\n",
       " '얼마나',\n",
       " '여쭐께요',\n",
       " '였던거',\n",
       " '였어요',\n",
       " '예약',\n",
       " '예약했는데',\n",
       " '오늘',\n",
       " '완벽해요',\n",
       " '왔는데요',\n",
       " '왔습니다',\n",
       " '우리집',\n",
       " '의사선생님',\n",
       " '의사선생님이',\n",
       " '이름은',\n",
       " '있나요',\n",
       " '있는지',\n",
       " '있어요',\n",
       " '저기요',\n",
       " '저방전',\n",
       " '전에',\n",
       " '제',\n",
       " '조례동에',\n",
       " '조례동이야',\n",
       " '조례동입니다',\n",
       " '좀',\n",
       " '좋습니다',\n",
       " '좋아요',\n",
       " '죄송해요',\n",
       " '주변에',\n",
       " '주세요',\n",
       " '주소는',\n",
       " '준비',\n",
       " '지금',\n",
       " '처방전',\n",
       " '하나요',\n",
       " '하던데요',\n",
       " '했어요',\n",
       " '화장실',\n",
       " '화장실이',\n",
       " '확인',\n",
       " '황의준',\n",
       " '황의준이야',\n",
       " '황의준이에요',\n",
       " '황의준입니다']"
      ]
     },
     "execution_count": 11,
     "metadata": {},
     "output_type": "execute_result"
    }
   ],
   "source": [
    "get_vocab()"
   ]
  },
  {
   "cell_type": "code",
   "execution_count": 2,
   "metadata": {},
   "outputs": [
    {
     "data": {
      "text/plain": [
       "array([0., 0., 0., 0., 0., 0., 0.], dtype=float32)"
      ]
     },
     "execution_count": 2,
     "metadata": {},
     "output_type": "execute_result"
    }
   ],
   "source": [
    "import numpy as np\n",
    "\n",
    "entities = {\n",
    "    '<first_name>' : None,\n",
    "    '<last_name>' : None,\n",
    "    '<address_number>' : None,\n",
    "    '<address_name>' : None,\n",
    "    '<address_type>': None,\n",
    "    '<time>' : None,\n",
    "    '<pm_am>' : None,\n",
    "}\n",
    "\n",
    "def context_features():\n",
    "    keys = list(set(entities.keys()))\n",
    "    keys = sorted(keys)\n",
    "    ctxt_features = np.array( [bool(entities[key]) for key in keys],\n",
    "                            dtype=np.float32 )\n",
    "\n",
    "    return ctxt_features\n",
    "\n",
    "context_features()"
   ]
  },
  {
   "cell_type": "code",
   "execution_count": 31,
   "metadata": {},
   "outputs": [],
   "source": [
    "import tensorflow as tf"
   ]
  },
  {
   "cell_type": "code",
   "execution_count": 38,
   "metadata": {},
   "outputs": [
    {
     "name": "stdout",
     "output_type": "stream",
     "text": [
      "Tensor(\"Reshape_2:0\", shape=(1, 100), dtype=int32)\n"
     ]
    }
   ],
   "source": [
    "word_lengths = tf.placeholder(tf.int32, shape=[None, None],\n",
    "                        name=\"word_lengths\")\n",
    "word_lengths = tf.reshape(word_lengths, shape=[1,100])\n",
    "print(word_lengths)"
   ]
  },
  {
   "cell_type": "code",
   "execution_count": 50,
   "metadata": {},
   "outputs": [
    {
     "name": "stdout",
     "output_type": "stream",
     "text": [
      "1\n"
     ]
    }
   ],
   "source": [
    "def one():\n",
    "    return 1, 2\n",
    "a, b = one()\n",
    "print(a)"
   ]
  },
  {
   "cell_type": "code",
   "execution_count": 7,
   "metadata": {},
   "outputs": [],
   "source": [
    "from gensim.models import word2vec\n",
    "import gensim\n",
    "import pickle"
   ]
  },
  {
   "cell_type": "code",
   "execution_count": 4,
   "metadata": {},
   "outputs": [],
   "source": [
    "model = word2vec.Word2Vec.load(\"text8.model\")"
   ]
  },
  {
   "cell_type": "code",
   "execution_count": 9,
   "metadata": {},
   "outputs": [
    {
     "data": {
      "text/plain": [
       "'2.0'"
      ]
     },
     "execution_count": 9,
     "metadata": {},
     "output_type": "execute_result"
    }
   ],
   "source": [
    "pickle.format_version"
   ]
  },
  {
   "cell_type": "code",
   "execution_count": null,
   "metadata": {},
   "outputs": [],
   "source": []
  }
 ],
 "metadata": {
  "kernelspec": {
   "display_name": "Python 2",
   "language": "python",
   "name": "python2"
  },
  "language_info": {
   "codemirror_mode": {
    "name": "ipython",
    "version": 3
   },
   "file_extension": ".py",
   "mimetype": "text/x-python",
   "name": "python",
   "nbconvert_exporter": "python",
   "pygments_lexer": "ipython3",
   "version": "3.5.2"
  }
 },
 "nbformat": 4,
 "nbformat_minor": 2
}
